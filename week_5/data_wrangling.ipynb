{
 "cells": [
  {
   "cell_type": "markdown",
   "metadata": {},
   "source": [
    "# SIT225: Data wrangling\n",
    "\n",
    "Run each cell to generate output and finally convert this notebook to PDF."
   ]
  },
  {
   "cell_type": "code",
   "execution_count": null,
   "metadata": {},
   "outputs": [],
   "source": [
    "# Fill in student ID and name\n",
    "# \n",
    "student_id = \"\"\n",
    "student_first_last_name = \"\"\n",
    "print(student_id, student_first_last_name)"
   ]
  },
  {
   "cell_type": "markdown",
   "metadata": {},
   "source": [
    "## Read the Data with Pandas\n",
    "\n",
    "Pandas has a dedicated function read_csv() to read CSV files.\n",
    "\n",
    "Just in case we have a large number of data, we can just show into only five rows with head function. It will show you 5 rows data automatically."
   ]
  },
  {
   "cell_type": "code",
   "execution_count": null,
   "metadata": {},
   "outputs": [],
   "source": [
    "import pandas as pd\n",
    "\n",
    "data_file = \"shopping_data.csv\"\n",
    "csv_data = pd.read_csv(data_file)\n",
    "\n",
    "print(csv_data)\n",
    "\n",
    "# show into only five rows with head function\n",
    "print(csv_data.head())"
   ]
  },
  {
   "cell_type": "markdown",
   "metadata": {},
   "source": [
    "## Access the Column\n",
    "\n",
    "Pandas has provided function .columns to access the column of the data source."
   ]
  },
  {
   "cell_type": "code",
   "execution_count": null,
   "metadata": {},
   "outputs": [],
   "source": [
    "print(csv_data.columns)\n",
    "\n",
    "# if we want to access just one column, for example \"Age\"\n",
    "print(\"Age:\")\n",
    "print(csv_data[\"Age\"])"
   ]
  },
  {
   "cell_type": "markdown",
   "metadata": {},
   "source": [
    "## Access the Row\n",
    "\n",
    "In addition to accessing data through columns, using pandas can also access using rows. In contrast to access through columns, the function to display data from a row is the .iloc[i] function where [i] indicates the order of the rows to be displayed where the index starts from 0."
   ]
  },
  {
   "cell_type": "code",
   "execution_count": null,
   "metadata": {},
   "outputs": [],
   "source": [
    "# we want to know what line 5 contains\n",
    "\n",
    "print(csv_data.iloc[5])\n",
    "\n",
    "print()\n",
    "\n",
    "# We can combine both of those function to show row and column we want. \n",
    "# For the example, we want to show the value in column \"Age\" at the first row \n",
    "# (remember that the row starts at 0)\n",
    "# \n",
    "print(csv_data[\"Age\"].iloc[1])\n"
   ]
  },
  {
   "cell_type": "markdown",
   "metadata": {},
   "source": [
    "## Show Data Based on Range\n",
    "\n",
    "After displaying a data set, what if you want to display data from rows 5 to 20 of a dataset? To anticipate this, pandas can also display data within a certain range, both ranges for rows only, only columns, and ranges for rows and columns"
   ]
  },
  {
   "cell_type": "code",
   "execution_count": null,
   "metadata": {},
   "outputs": [],
   "source": [
    "print(\"Shows data to 5th to less than 10th in a row:\")\n",
    "print(csv_data.iloc[5:10])"
   ]
  },
  {
   "cell_type": "markdown",
   "metadata": {},
   "source": [
    "## Using Numpy to Show the Statistic Information\n",
    "\n",
    "The describe() function allows to quickly find statistical information from a dataset. Those information such as mean, median, modus, max min, even standard deviation. Don't forget to install Numpy before using describe function."
   ]
  },
  {
   "cell_type": "code",
   "execution_count": null,
   "metadata": {},
   "outputs": [],
   "source": [
    "print(csv_data.describe(include=\"all\"))"
   ]
  },
  {
   "cell_type": "markdown",
   "metadata": {},
   "source": [
    "## Handling Missing Value\n",
    "\n"
   ]
  },
  {
   "cell_type": "code",
   "execution_count": null,
   "metadata": {},
   "outputs": [],
   "source": [
    "# For the first step, we will figure out if there is missing value.\n",
    "print(csv_data.isnull().values.any())\n",
    "print()"
   ]
  },
  {
   "cell_type": "code",
   "execution_count": null,
   "metadata": {},
   "outputs": [],
   "source": [
    "# We will use another data source with missing values to practice this part.\n",
    "data_missing = pd.read_csv(\"shopping_data_missingvalue.csv\")\n",
    "print(data_missing.head())\n",
    "\n",
    "print()\n",
    "\n",
    "print(\"Missing? \", data_missing.isnull().values.any())\n",
    "\n"
   ]
  },
  {
   "cell_type": "code",
   "execution_count": null,
   "metadata": {},
   "outputs": [],
   "source": []
  },
  {
   "cell_type": "markdown",
   "metadata": {},
   "source": [
    "### Ways to deal with missing values. \n",
    "\n",
    "Follow the tutorial (https://deepnote.com/app/rickyharyanto14-3390/Data-Wrangling-w-Python-e5d1a23e-33cf-416d-ad27-4c3f7f467442). It includes -\n",
    "1. Delete data\n",
    "    * deleting rows\n",
    "    * pairwise deletion\n",
    "    * delete column \n",
    "2. imputation\n",
    "    * time series problem\n",
    "        - Data without trend with seasonality (mean, median, mode, random)\n",
    "        - Data with trend and without seasonality (linear interpolation)\n",
    "    * general problem\n",
    "        - Data categorical (Make NA as multiple imputation)\n",
    "        - Data numerical or continuous (mean, median, mode, multiple imputation and linear regression)"
   ]
  },
  {
   "cell_type": "markdown",
   "metadata": {},
   "source": [
    "### Filling with Mean Values\n",
    "\n",
    "The mean is used for data that has a few outliers/noise/anomalies in the distribution of the data and its contents. This value will later fill in the empty value of the dataset that has a missing value case. To fill in an empty value use the fillna() function"
   ]
  },
  {
   "cell_type": "code",
   "execution_count": null,
   "metadata": {},
   "outputs": [],
   "source": [
    "print(data_missing.mean())\n",
    "\n",
    "\"\"\"\n",
    "\n",
    "Question: This code will generate error. Can you explain why and how it can be solved? \n",
    "Move on to the next cell to find one way it can be solved.\n",
    "\n",
    "Answer: <your answer>\n",
    "\n",
    "\"\"\" "
   ]
  },
  {
   "cell_type": "code",
   "execution_count": null,
   "metadata": {},
   "outputs": [],
   "source": [
    "# Genre column contains string values and numerial operation mean fails. \n",
    "# Lets drop Genre column since for numerial calculation.\n",
    "# \n",
    "data_missing_wo_genre = data_missing.drop(columns=['Genre'])\n",
    "print(data_missing_wo_genre.head())"
   ]
  },
  {
   "cell_type": "code",
   "execution_count": null,
   "metadata": {},
   "outputs": [],
   "source": [
    "print(data_missing_wo_genre.mean())"
   ]
  },
  {
   "cell_type": "code",
   "execution_count": null,
   "metadata": {},
   "outputs": [],
   "source": [
    "print(\"Dataset with empty values! :\")\n",
    "print(data_missing_wo_genre.head(10))\n",
    "\n",
    "data_filling=data_missing_wo_genre.fillna(data_missing_wo_genre.mean())\n",
    "print(\"Dataset that has been processed Handling Missing Values with Mean :\")\n",
    "print(data_filling.head(10))\n",
    "\n",
    "# Observe the missing value imputation in corresponding rows.\n",
    "# "
   ]
  },
  {
   "cell_type": "markdown",
   "metadata": {},
   "source": [
    "### Filling with Median\n",
    "\n",
    "The median is used when the data presented has a high outlier. The median was chosen because it is the middle value, which means it is not the result of calculations involving outlier data. In some cases, outlier data is considered disturbing and often considered noisy because it can affect class distribution and interfere with clustering analysis."
   ]
  },
  {
   "cell_type": "code",
   "execution_count": null,
   "metadata": {},
   "outputs": [],
   "source": [
    "print(data_missing_wo_genre.median())\n",
    "print(\"Dataset with empty values! :\")\n",
    "print(data_missing_wo_genre.head(10))\n",
    "\n",
    "data_filling2=data_missing_wo_genre.fillna(data_missing_wo_genre.median())\n",
    "print(\"Dataset that has been processed Handling Missing Values with Median :\")\n",
    "print(data_filling2.head(10))\n",
    "\n",
    "# Observe the missing value imputation in corresponding rows.\n",
    "# "
   ]
  }
 ],
 "metadata": {
  "kernelspec": {
   "display_name": "Python 3 (ipykernel)",
   "language": "python",
   "name": "python3"
  },
  "language_info": {
   "codemirror_mode": {
    "name": "ipython",
    "version": 3
   },
   "file_extension": ".py",
   "mimetype": "text/x-python",
   "name": "python",
   "nbconvert_exporter": "python",
   "pygments_lexer": "ipython3",
   "version": "3.10.9"
  }
 },
 "nbformat": 4,
 "nbformat_minor": 4
}
